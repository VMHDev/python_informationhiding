{
 "cells": [
  {
   "cell_type": "markdown",
   "metadata": {},
   "source": [
    "# Demo phương pháp LSB "
   ]
  },
  {
   "cell_type": "code",
   "execution_count": 1,
   "metadata": {},
   "outputs": [],
   "source": [
    "from bitarray import bitarray\n",
    "from PIL import Image    # Thư viện đọc ghi - xử lý ảnh\n",
    "import numpy as np"
   ]
  },
  {
   "cell_type": "code",
   "execution_count": 6,
   "metadata": {},
   "outputs": [
    {
     "name": "stdout",
     "output_type": "stream",
     "text": [
      "723\n",
      "5784\n"
     ]
    },
    {
     "data": {
      "text/plain": [
       "True"
      ]
     },
     "execution_count": 6,
     "metadata": {},
     "output_type": "execute_result"
    }
   ],
   "source": [
    "def embed(msg_file, cover_img_file, num_lsbs, stego_img_file):\n",
    "    '''\n",
    "    msg_file: Tên file chứa tin mật\n",
    "    cover_img_file: Tên file che chắn\n",
    "    stego_img_file: Tên file kết quả\n",
    "    num_lsbs: Số bit dùng để nhúng (Có thể dùng 1 bit cuối hoặc 2 bit cuối, ....)\n",
    "    '''\n",
    "    # Đọc cover img file - Đọc ảnh phủ rồi chuyển về kiểu ndarray\n",
    "    cover_pixels = np.array(Image.open(cover_img_file))\n",
    "    # print(type(cover_pixels))\n",
    "    # print(cover_pixels.shape)\n",
    "    # print(cover_pixels.dtype)\n",
    "    \n",
    "    # Đọc msg file - Đọc file tin mật\n",
    "    with open(msg_file, 'r') as f:\n",
    "        msg = f.read()\n",
    "    # print(len(msg)) = 723\n",
    "    \n",
    "    # Chuyển msg thành msg bits\n",
    "    msg_bits = bitarray()\n",
    "    msg_bits.fromstring(msg)\n",
    "    # print(len(msg_bits)) = 5784 = len(msg) x 8 = 723 x 8\n",
    "    \n",
    "    # Kiểm xem có nhúng được không? (Kích thước của dãy bit tin mật lớn hơn kích thước của ảnh phủ thì không nhúng được)\n",
    "    capacity = cover_pixels.size * num_lsbs         # Lấy kích thước của mảng chứa ảnh phủ => cover_pixels.size\n",
    "    if len(msg_bits) + 1 > capacity:\n",
    "        print('Cannot embed')\n",
    "        return False\n",
    "    \n",
    "    # Thêm '100...' vào msg bits\n",
    "    msg_bits.extend('1' + '0' * (capacity - len(msg_bits) - 1))   # Trừ 1 vì đã thêm số 1 trong dãy 100...\n",
    "   \n",
    "    # Nhúng msg bits vào cover pixels\n",
    "    stego_pixels = np.empty_like(cover_pixels)\n",
    "    for r in range(cover_pixels.shape[0]):\n",
    "        for c in range(cover_pixels.shape[1]):\n",
    "            b = (r * cover_pixels.shape[1] + c) * num_lsbs\n",
    "            stego_pixels[r, c] = (cover_pixels[r, c]>>num_lsbs<<num_lsbs)\\\n",
    "                                + int(msg_bits[b:b+num_lsbs].to01(), 2)\n",
    "    \n",
    "    # Ghi stego pixels xuống file\n",
    "    Image.fromarray(stego_pixels).save(stego_img_file)\n",
    "    \n",
    "    return True\n",
    "    \n",
    "embed('05-msg.txt', '05-cover.bmp', 2, '05-stego.bmp')"
   ]
  },
  {
   "cell_type": "code",
   "execution_count": 7,
   "metadata": {},
   "outputs": [
    {
     "name": "stdout",
     "output_type": "stream",
     "text": [
      "[[161 160 163 ... 171 152 130]\n",
      " [161 161 160 ... 170 152 129]\n",
      " [161 163 160 ... 171 154 129]\n",
      " ...\n",
      " [ 40  40  48 ... 104 100  96]\n",
      " [ 44  44  52 ... 104 104 108]\n",
      " [ 44  44  52 ... 104 104 108]]\n",
      "-----------------\n",
      "[161 160 163 ... 104 104 108]\n"
     ]
    }
   ],
   "source": [
    "def extract(stego_img_file, num_lsbs, extr_msg_file):\n",
    "    '''\n",
    "    stego_img_file: Ảnh chứa tin mật\n",
    "    num_lsbs: Số bit dùng để nhúng (Có thể dùng 1 bit cuối hoặc 2 bit cuối, ....)\n",
    "    extr_msg_file: Tin mật trong văn bản\n",
    "    '''\n",
    "    # Đọc stego img file\n",
    "    stego_pixels = np.array(Image.open(stego_img_file))\n",
    "    print(stego_pixels)\n",
    "    print(\"-----------------\")\n",
    "    print(stego_pixels.reshape(-1))\n",
    "    \n",
    "    # Rút trích msg bits\n",
    "    extr_msg_bits = bitarray()\n",
    "    for pixel in stego_pixels.reshape(-1):\n",
    "        extr_msg_bits.extend((np.binary_repr(pixel & (2**num_lsbs-1), num_lsbs)))\n",
    "    \n",
    "    # Cắt đuôi '100...' ra khỏi msg bits\n",
    "    extr_msg_bits = extr_msg_bits[:extr_msg_bits.to01().rfind('1')]\n",
    "    \n",
    "    # Chuyển msg bits thành msg\n",
    "    extr_msg = extr_msg_bits.tostring()\n",
    "    \n",
    "    # Ghi msg xuống file\n",
    "    with open(extr_msg_file, 'w') as f:\n",
    "        f.write(extr_msg)\n",
    "        \n",
    "extract('05-stego.bmp', 2, '05-extr_msg.txt')"
   ]
  }
 ],
 "metadata": {
  "kernelspec": {
   "display_name": "Python 3",
   "language": "python",
   "name": "python3"
  },
  "language_info": {
   "codemirror_mode": {
    "name": "ipython",
    "version": 3
   },
   "file_extension": ".py",
   "mimetype": "text/x-python",
   "name": "python",
   "nbconvert_exporter": "python",
   "pygments_lexer": "ipython3",
   "version": "3.7.5"
  }
 },
 "nbformat": 4,
 "nbformat_minor": 4
}
