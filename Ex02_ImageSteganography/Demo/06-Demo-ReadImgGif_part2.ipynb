{
 "cells": [
  {
   "cell_type": "code",
   "execution_count": 1,
   "metadata": {},
   "outputs": [],
   "source": [
    "import numpy as np\n",
    "import matplotlib.pyplot as plt\n",
    "from PIL import Image"
   ]
  },
  {
   "cell_type": "markdown",
   "metadata": {},
   "source": [
    "Một ảnh gif thì gồm 2 phần:\n",
    "- Ma trận chỉ số của bảng màu\n",
    "- Bảng màu  \n",
    "\n",
    "Ảnh có kích thước 16x16 thì:\n",
    "- Ma  trận chỉ số sẽ gồm 16*16 chỉ số\n",
    "    - Tức là gồm 16 phần tử mỗi phần tử có 16 chỉ số\n",
    "- Bảng màu là một danh sách gồm 768 phần tử. Trong đó:\n",
    "    - Gồm bảng màu của 3 màu RGB. Tức là:\n",
    "        - 256 giá trị màu * 3 = 768 phần tử"
   ]
  },
  {
   "cell_type": "markdown",
   "metadata": {},
   "source": [
    "### Đọc file ảnh gif"
   ]
  },
  {
   "cell_type": "code",
   "execution_count": 2,
   "metadata": {},
   "outputs": [
    {
     "name": "stdout",
     "output_type": "stream",
     "text": [
      "<PIL.GifImagePlugin.GifImageFile image mode=P size=16x16 at 0x28E3A483848>\n",
      "<class 'PIL.GifImagePlugin.GifImageFile'>\n"
     ]
    }
   ],
   "source": [
    "imgLena = Image.open(\"lena_small.gif\")\n",
    "print(imgLena)\n",
    "print(type(imgLena))"
   ]
  },
  {
   "cell_type": "markdown",
   "metadata": {},
   "source": [
    "---\n",
    "### Lấy ma trận chỉ số của bảng màu\n",
    "#### Lấy thông tin kích thước và kiểu dữ liệu"
   ]
  },
  {
   "cell_type": "code",
   "execution_count": 3,
   "metadata": {},
   "outputs": [
    {
     "name": "stdout",
     "output_type": "stream",
     "text": [
      "<class 'numpy.ndarray'>\n",
      "(16, 16)\n",
      "16\n"
     ]
    }
   ],
   "source": [
    "pixels = np.array(imgLena)\n",
    "print(type(pixels))\n",
    "print(pixels.shape)\n",
    "print(len(pixels))"
   ]
  },
  {
   "cell_type": "markdown",
   "metadata": {},
   "source": [
    "#### Lấy ma trận chỉ số"
   ]
  },
  {
   "cell_type": "code",
   "execution_count": 4,
   "metadata": {},
   "outputs": [
    {
     "name": "stdout",
     "output_type": "stream",
     "text": [
      "[[188 230 134 181 182 182 181 182 182 182 182 230 188 188 182 133]\n",
      " [230 188 133 182 182 182 188 188 182 181 182 194 182 243 133  43]\n",
      " [140 230 133 139 181 140 182 195 202 140 182 182 230 182  43  92]\n",
      " [133 230 134 182 182 182 188 195 244 202 181  91 195  85  85 194]\n",
      " [133 194 133 182 139 182 188 237 195 195 195 237 250  43 182 189]\n",
      " [175 237 127 140 182 182 188 140 140 195 244 195 140  85 195 188]\n",
      " [134 236 133 181 194 182  92  43 189 195 182 140  43 140 194 188]\n",
      " [133 236  86 181 182  43  85 195 188 195 237  91  85 237 188 189]\n",
      " [133 237 133 140  92  92 140 182 140 189 133  92  91 189 188 188]\n",
      " [ 85 236 140  98  85  91 140 182 237 188 182  91 182 188 188 201]\n",
      " [133 236 134  92  98 141  91 224 182 188 134  91 189 188 195 243]\n",
      " [ 85 237  91  92 189  85  85 139 224 188  43 134 194 140 243 244]\n",
      " [ 92 236  92  92 141  98  43 133 182 195 140 133 182 140 243  85]\n",
      " [ 98 236  43  85  98 140  85 182 188 230 250 140 188 195 188 139]\n",
      " [134 237  91  85  92  92  91 182 182 182 195 195  92 236 133 134]\n",
      " [140 236  43  92  92  85 181 182 230 188 230 196 133 140 133  92]]\n"
     ]
    }
   ],
   "source": [
    "print(pixels)"
   ]
  },
  {
   "cell_type": "code",
   "execution_count": 5,
   "metadata": {},
   "outputs": [
    {
     "name": "stdout",
     "output_type": "stream",
     "text": [
      "[188 230 134 181 182 182 181 182 182 182 182 230 188 188 182 133]\n"
     ]
    }
   ],
   "source": [
    "print(pixels[0])"
   ]
  },
  {
   "cell_type": "markdown",
   "metadata": {},
   "source": [
    "---\n",
    "### Lấy bảng màu"
   ]
  },
  {
   "cell_type": "code",
   "execution_count": 6,
   "metadata": {},
   "outputs": [
    {
     "name": "stdout",
     "output_type": "stream",
     "text": [
      "<class 'list'>\n",
      "Kích thước: 768\n",
      "[0, 0, 0, 0, 0, 51, 0, 0, 102, 0, 0, 153, 0, 0, 204, 0, 0, 255, 0, 43, 0, 0, 43, 51, 0, 43, 102, 0, 43, 153, 0, 43, 204, 0, 43, 255, 0, 85, 0, 0, 85, 51, 0, 85, 102, 0, 85, 153, 0, 85, 204, 0, 85, 255, 0, 128, 0, 0, 128, 51, 0, 128, 102, 0, 128, 153, 0, 128, 204, 0, 128, 255, 0, 170, 0, 0, 170, 51, 0, 170, 102, 0, 170, 153, 0, 170, 204, 0, 170, 255, 0, 213, 0, 0, 213, 51, 0, 213, 102, 0, 213, 153, 0, 213, 204, 0, 213, 255, 0, 255, 0, 0, 255, 51, 0, 255, 102, 0, 255, 153, 0, 255, 204, 0, 255, 255, 51, 0, 0, 51, 0, 51, 51, 0, 102, 51, 0, 153, 51, 0, 204, 51, 0, 255, 51, 43, 0, 51, 43, 51, 51, 43, 102, 51, 43, 153, 51, 43, 204, 51, 43, 255, 51, 85, 0, 51, 85, 51, 51, 85, 102, 51, 85, 153, 51, 85, 204, 51, 85, 255, 51, 128, 0, 51, 128, 51, 51, 128, 102, 51, 128, 153, 51, 128, 204, 51, 128, 255, 51, 170, 0, 51, 170, 51, 51, 170, 102, 51, 170, 153, 51, 170, 204, 51, 170, 255, 51, 213, 0, 51, 213, 51, 51, 213, 102, 51, 213, 153, 51, 213, 204, 51, 213, 255, 51, 255, 0, 51, 255, 51, 51, 255, 102, 51, 255, 153, 51, 255, 204, 51, 255, 255, 102, 0, 0, 102, 0, 51, 102, 0, 102, 102, 0, 153, 102, 0, 204, 102, 0, 255, 102, 43, 0, 102, 43, 51, 102, 43, 102, 102, 43, 153, 102, 43, 204, 102, 43, 255, 102, 85, 0, 102, 85, 51, 102, 85, 102, 102, 85, 153, 102, 85, 204, 102, 85, 255, 102, 128, 0, 102, 128, 51, 102, 128, 102, 102, 128, 153, 102, 128, 204, 102, 128, 255, 102, 170, 0, 102, 170, 51, 102, 170, 102, 102, 170, 153, 102, 170, 204, 102, 170, 255, 102, 213, 0, 102, 213, 51, 102, 213, 102, 102, 213, 153, 102, 213, 204, 102, 213, 255, 102, 255, 0, 102, 255, 51, 102, 255, 102, 102, 255, 153, 102, 255, 204, 102, 255, 255, 153, 0, 0, 153, 0, 51, 153, 0, 102, 153, 0, 153, 153, 0, 204, 153, 0, 255, 153, 43, 0, 153, 43, 51, 153, 43, 102, 153, 43, 153, 153, 43, 204, 153, 43, 255, 153, 85, 0, 153, 85, 51, 153, 85, 102, 153, 85, 153, 153, 85, 204, 153, 85, 255, 153, 128, 0, 153, 128, 51, 153, 128, 102, 153, 128, 153, 153, 128, 204, 153, 128, 255, 153, 170, 0, 153, 170, 51, 153, 170, 102, 153, 170, 153, 153, 170, 204, 153, 170, 255, 153, 213, 0, 153, 213, 51, 153, 213, 102, 153, 213, 153, 153, 213, 204, 153, 213, 255, 153, 255, 0, 153, 255, 51, 153, 255, 102, 153, 255, 153, 153, 255, 204, 153, 255, 255, 204, 0, 0, 204, 0, 51, 204, 0, 102, 204, 0, 153, 204, 0, 204, 204, 0, 255, 204, 43, 0, 204, 43, 51, 204, 43, 102, 204, 43, 153, 204, 43, 204, 204, 43, 255, 204, 85, 0, 204, 85, 51, 204, 85, 102, 204, 85, 153, 204, 85, 204, 204, 85, 255, 204, 128, 0, 204, 128, 51, 204, 128, 102, 204, 128, 153, 204, 128, 204, 204, 128, 255, 204, 170, 0, 204, 170, 51, 204, 170, 102, 204, 170, 153, 204, 170, 204, 204, 170, 255, 204, 213, 0, 204, 213, 51, 204, 213, 102, 204, 213, 153, 204, 213, 204, 204, 213, 255, 204, 255, 0, 204, 255, 51, 204, 255, 102, 204, 255, 153, 204, 255, 204, 204, 255, 255, 255, 0, 0, 255, 0, 51, 255, 0, 102, 255, 0, 153, 255, 0, 204, 255, 0, 255, 255, 43, 0, 255, 43, 51, 255, 43, 102, 255, 43, 153, 255, 43, 204, 255, 43, 255, 255, 85, 0, 255, 85, 51, 255, 85, 102, 255, 85, 153, 255, 85, 204, 255, 85, 255, 255, 128, 0, 255, 128, 51, 255, 128, 102, 255, 128, 153, 255, 128, 204, 255, 128, 255, 255, 170, 0, 255, 170, 51, 255, 170, 102, 255, 170, 153, 255, 170, 204, 255, 170, 255, 255, 213, 0, 255, 213, 51, 255, 213, 102, 255, 213, 153, 255, 213, 204, 255, 213, 255, 255, 255, 0, 255, 255, 51, 255, 255, 102, 255, 255, 153, 255, 255, 204, 255, 255, 255, 0, 0, 0, 0, 0, 0, 0, 0, 0, 0, 0, 0]\n"
     ]
    }
   ],
   "source": [
    "lstTblColor = imgLena.getpalette()\n",
    "print(type(lstTblColor))\n",
    "print(\"Kích thước: \" + str(len(lstTblColor)))  # = 768 = 256 * 3   (256 là số bit của 1 bảng màu | 3 là số màu của ảnh RGB)\n",
    "print(lstTblColor)"
   ]
  },
  {
   "cell_type": "markdown",
   "metadata": {},
   "source": [
    "#### Chuyển bảng màu dạng list thành dạng ma trận 3 chiều:\n",
    "Ref: https://opensourceoptions.com/blog/numpy-array-shapes-and-reshaping-arrays/\n",
    "- Với:\n",
    "    - 1 lớp dữ liệu (1 layer)\n",
    "    - 256 dòng dữ liệu\n",
    "    - 3 cột tương ứng 3 giá trị là index của 3 màu RGB"
   ]
  },
  {
   "cell_type": "code",
   "execution_count": 7,
   "metadata": {},
   "outputs": [],
   "source": [
    "palette = imgLena.getpalette()"
   ]
  },
  {
   "cell_type": "code",
   "execution_count": 8,
   "metadata": {},
   "outputs": [
    {
     "name": "stdout",
     "output_type": "stream",
     "text": [
      "<class 'numpy.ndarray'>\n",
      "(768,)\n"
     ]
    }
   ],
   "source": [
    "# Chuyển sang kiểu numpy\n",
    "nparrayImg = np.array(palette)\n",
    "print(type(nparrayImg))\n",
    "print(nparrayImg.shape)\n",
    "# print(nparrayImg)"
   ]
  },
  {
   "cell_type": "code",
   "execution_count": 9,
   "metadata": {},
   "outputs": [
    {
     "name": "stdout",
     "output_type": "stream",
     "text": [
      "<class 'numpy.ndarray'>\n",
      "(1, 256, 3)\n",
      "[[  0   0   0]\n",
      " [  0   0  51]\n",
      " [  0   0 102]\n",
      " [  0   0 153]\n",
      " [  0   0 204]\n",
      " [  0   0 255]\n",
      " [  0  43   0]\n",
      " [  0  43  51]\n",
      " [  0  43 102]\n",
      " [  0  43 153]]\n",
      "0\n"
     ]
    }
   ],
   "source": [
    "# Chuyển mảng 1 chiều thành mảng 3 chiều\n",
    "npReshape = nparrayImg.reshape((1,-1,3))  # Tham số đầu = 1: Số lớp\n",
    "                                          # Tham số thứ hai = -1 hoặc 256: Số dòng  (Bằng -1 thì khi đó dựa vào 2 tham số còn lại để tính)\n",
    "                                          # Tham số ba = 3: Số phần tử của mỗi dòng (Số cột)\n",
    "print(type(npReshape))\n",
    "print(npReshape.shape)\n",
    "# print(npReshape)\n",
    "print(npReshape[0][:10])\n",
    "print(npReshape[0][0][1])"
   ]
  },
  {
   "cell_type": "markdown",
   "metadata": {},
   "source": [
    "#### Hiển thị bảng màu"
   ]
  },
  {
   "cell_type": "code",
   "execution_count": 10,
   "metadata": {},
   "outputs": [
    {
     "data": {
      "text/plain": [
       "<matplotlib.image.AxesImage at 0x28e3a5a2108>"
      ]
     },
     "execution_count": 10,
     "metadata": {},
     "output_type": "execute_result"
    },
    {
     "data": {
      "image/png": "[encoded data removed]",
      "text/plain": [
       "<Figure size 432x288 with 1 Axes>"
      ]
     },
     "metadata": {
      "needs_background": "light"
     },
     "output_type": "display_data"
    }
   ],
   "source": [
    "plt.imshow(npReshape, aspect = 30)    # Điều chỉnh aspect để tăng chiều rộng"
   ]
  },
  {
   "cell_type": "code",
   "execution_count": 11,
   "metadata": {},
   "outputs": [],
   "source": [
    "# plt.imshow(npReshape[0][:], extent=[-500, 500, -500, 500])"
   ]
  },
  {
   "cell_type": "markdown",
   "metadata": {},
   "source": [
    "## Hiển thị ảnh lên từ bảng màu và dãy chỉ số"
   ]
  },
  {
   "cell_type": "code",
   "execution_count": 12,
   "metadata": {},
   "outputs": [
    {
     "name": "stdout",
     "output_type": "stream",
     "text": [
      "(16, 16, 3)\n"
     ]
    },
    {
     "data": {
      "text/plain": [
       "<matplotlib.image.AxesImage at 0x28e3da18e88>"
      ]
     },
     "execution_count": 12,
     "metadata": {},
     "output_type": "execute_result"
    },
    {
     "data": {
      "image/png": "[encoded data removed]",
      "text/plain": [
       "<Figure size 432x288 with 1 Axes>"
      ]
     },
     "metadata": {
      "needs_background": "light"
     },
     "output_type": "display_data"
    }
   ],
   "source": [
    "rgb_pixels = npReshape[0,pixels] # \"0\" Là layer thứ 0 | \"pixels\" là ma trận chỉ số\n",
    "print(rgb_pixels.shape)\n",
    "plt.imshow(rgb_pixels)"
   ]
  },
  {
   "cell_type": "markdown",
   "metadata": {},
   "source": [
    "**Ảnh mờ do chỉ được biểu diển bởi 16x16 pixels**"
   ]
  },
  {
   "cell_type": "markdown",
   "metadata": {},
   "source": [
    "## Truy xuất"
   ]
  },
  {
   "cell_type": "markdown",
   "metadata": {},
   "source": [
    "### Truy xuất từng dòng dữ liệu pixels"
   ]
  },
  {
   "cell_type": "code",
   "execution_count": 13,
   "metadata": {},
   "outputs": [
    {
     "name": "stdout",
     "output_type": "stream",
     "text": [
      "Lấy dòng đầu tiên của ma trận chứa index bảng màu:\n",
      "[188 230 134 181 182 182 181 182 182 182 182 230 188 188 182 133]\n",
      "Lấy RGB của của dòng đầu tiên dựa trên bảng màu và index:\n",
      "(16, 3)\n",
      "[[204 128 102]\n",
      " [255 128 102]\n",
      " [153  43 102]\n",
      " [204  85  51]\n",
      " [204  85 102]\n",
      " [204  85 102]\n",
      " [204  85  51]\n",
      " [204  85 102]\n",
      " [204  85 102]\n",
      " [204  85 102]\n",
      " [204  85 102]\n",
      " [255 128 102]\n",
      " [204 128 102]\n",
      " [204 128 102]\n",
      " [204  85 102]\n",
      " [153  43  51]]\n",
      "Chuyển thành mảng 3 chiều rồi hiển thị pixels nên:\n",
      "(1, 16, 3)\n",
      "[[[204 128 102]\n",
      "  [255 128 102]\n",
      "  [153  43 102]\n",
      "  [204  85  51]\n",
      "  [204  85 102]\n",
      "  [204  85 102]\n",
      "  [204  85  51]\n",
      "  [204  85 102]\n",
      "  [204  85 102]\n",
      "  [204  85 102]\n",
      "  [204  85 102]\n",
      "  [255 128 102]\n",
      "  [204 128 102]\n",
      "  [204 128 102]\n",
      "  [204  85 102]\n",
      "  [153  43  51]]]\n"
     ]
    },
    {
     "data": {
      "text/plain": [
       "<matplotlib.image.AxesImage at 0x28e3da9a2c8>"
      ]
     },
     "execution_count": 13,
     "metadata": {},
     "output_type": "execute_result"
    },
    {
     "data": {
      "image/png": "[encoded data removed]",
      "text/plain": [
       "<Figure size 432x288 with 1 Axes>"
      ]
     },
     "metadata": {
      "needs_background": "light"
     },
     "output_type": "display_data"
    }
   ],
   "source": [
    "print(\"Lấy dòng đầu tiên của ma trận chứa index bảng màu:\")\n",
    "pixels_rows0 = pixels[0]\n",
    "print(pixels_rows0)\n",
    "# --------------------------------------------------------------\n",
    "print(\"Lấy RGB của của dòng đầu tiên dựa trên bảng màu và index:\")\n",
    "rgb_pixels_rows0 = npReshape[0, pixels_rows0]\n",
    "print(rgb_pixels_rows0.shape)\n",
    "print(rgb_pixels_rows0)\n",
    "# --------------------------------------------------------------\n",
    "print(\"Chuyển thành mảng 3 chiều rồi hiển thị pixels nên:\")\n",
    "rgb_pixels_rows0_3D = rgb_pixels_rows0.reshape(1,-1,3)\n",
    "print(rgb_pixels_rows0_3D.shape)\n",
    "print(rgb_pixels_rows0_3D)\n",
    "plt.imshow(rgb_pixels_rows0_3D)"
   ]
  },
  {
   "cell_type": "markdown",
   "metadata": {},
   "source": [
    "**Giống với lát cắt đầu tiên của ảnh**"
   ]
  },
  {
   "cell_type": "markdown",
   "metadata": {},
   "source": [
    "### Truy xuất từng pixels một"
   ]
  },
  {
   "cell_type": "code",
   "execution_count": 14,
   "metadata": {},
   "outputs": [
    {
     "name": "stdout",
     "output_type": "stream",
     "text": [
      "Lấy pixels tại vị trí dòng đầu tiên - cột đầu tiên => Lấy được index của bảng màu:\n",
      "()\n",
      "188\n",
      "Lấy RGB của pixels dựa trên bảng màu và index:\n",
      "(3,)\n",
      "[204 128 102]\n",
      "Chuyển thành mảng 3 chiều rồi hiển thị pixels nên:\n",
      "(1, 1, 3)\n",
      "[[[204 128 102]]]\n"
     ]
    },
    {
     "data": {
      "text/plain": [
       "<matplotlib.image.AxesImage at 0x28e3daffd48>"
      ]
     },
     "execution_count": 14,
     "metadata": {},
     "output_type": "execute_result"
    },
    {
     "data": {
      "image/png": "[encoded data removed]",
      "text/plain": [
       "<Figure size 432x288 with 1 Axes>"
      ]
     },
     "metadata": {
      "needs_background": "light"
     },
     "output_type": "display_data"
    }
   ],
   "source": [
    "print(\"Lấy pixels tại vị trí dòng đầu tiên - cột đầu tiên => Lấy được index của bảng màu:\")\n",
    "pixels_idx00 = pixels[0][0] \n",
    "print(pixels_idx00.shape) \n",
    "print(pixels_idx00)        \n",
    "# --------------------------------------------------------------\n",
    "print(\"Lấy RGB của pixels dựa trên bảng màu và index:\")\n",
    "rgb_pixels_idx00 = npReshape[0, pixels_idx00]   \n",
    "print(rgb_pixels_idx00.shape)\n",
    "print(rgb_pixels_idx00)\n",
    "# --------------------------------------------------------------\n",
    "print(\"Chuyển thành mảng 3 chiều rồi hiển thị pixels nên:\")\n",
    "rgb_pixels_idx00_3D = rgb_pixels_idx00.reshape(1,1,3)\n",
    "print(rgb_pixels_idx00_3D.shape)\n",
    "print(rgb_pixels_idx00_3D)\n",
    "plt.imshow(rgb_pixels_idx00_3D)"
   ]
  },
  {
   "cell_type": "markdown",
   "metadata": {},
   "source": [
    "**Giống với pixels đầu tiên của ảnh**"
   ]
  }
 ],
 "metadata": {
  "kernelspec": {
   "display_name": "Python 3",
   "language": "python",
   "name": "python3"
  },
  "language_info": {
   "codemirror_mode": {
    "name": "ipython",
    "version": 3
   },
   "file_extension": ".py",
   "mimetype": "text/x-python",
   "name": "python",
   "nbconvert_exporter": "python",
   "pygments_lexer": "ipython3",
   "version": "3.7.5"
  }
 },
 "nbformat": 4,
 "nbformat_minor": 4
}
