{
 "cells": [
  {
   "cell_type": "markdown",
   "metadata": {},
   "source": [
    "# BT02: Ẩn tin mật trên ảnh gif (ảnh palette-based) bằng phương pháp LSB\n",
    "\n",
    "\n",
    "Họ tên: Vũ Mạnh Hùng\n",
    "\n",
    "MSSV: 18424029"
   ]
  },
  {
   "cell_type": "markdown",
   "metadata": {},
   "source": [
    "---\n",
    "## Cách làm bài và nộp bài\n",
    "&#9889; Bạn lưu ý là mình sẽ dùng chương trình hỗ trợ chấm bài nên bạn cần phải tuân thủ chính xác qui định mà mình đặt ra, nếu không rõ thì hỏi, chứ không nên tự tiện làm theo ý của cá nhân.\n",
    "\n",
    "**Cách làm bài**\n",
    "\n",
    "Bạn sẽ làm trực tiếp trên file notebook này. Đầu tiên, bạn điền họ tên và MSSV vào phần đầu file ở bên trên. Trong file, bạn làm bài ở những chỗ có ghi là:\n",
    "```python\n",
    "# YOUR CODE HERE\n",
    "raise NotImplementedError()\n",
    "```\n",
    "hoặc đối với những phần code không bắt buộc thì là:\n",
    "```python\n",
    "# YOUR CODE HERE (OPTION)\n",
    "```\n",
    "hoặc đối với markdown cell thì là:\n",
    "```markdown\n",
    "YOUR ANSWER HERE\n",
    "```\n",
    "Tất nhiên, khi làm thì bạn xóa dòng `raise NotImplementedError()` đi.\n",
    "Đối những phần yêu cầu code thì thường ở ngay phía dưới sẽ có một (hoặc một số) cell chứa các bộ test để giúp bạn biết đã code đúng hay chưa; nếu chạy cell này không có lỗi gì thì có nghĩa là qua được các bộ test. Trong một số trường hợp, các bộ test có thể sẽ không đầy đủ; nghĩa là, nếu không qua được test thì là code sai, nhưng nếu qua được test thì chưa chắc đã đúng hoàn toàn.\n",
    "\n",
    "Trong khi làm bài, bạn có thể cho in ra màn hình, tạo thêm các cell để test. Nhưng khi nộp bài thì bạn xóa các cell mà bạn tự tạo, xóa hoặc comment các câu lệnh in ra màn hình. Bạn lưu ý <font color=red>không được tự tiện xóa các cell hay sửa code của Thầy</font> (trừ những chỗ được phép sửa như đã nói ở trên).\n",
    "\n",
    "Trong khi làm bài, thường xuyên `Ctrl + S` để lưu lại bài làm của bạn, tránh mất mát thông tin.\n",
    "\n",
    "\n",
    "*Nên nhớ mục tiêu chính ở đây là <font color=green>học, học một cách chân thật</font>. Bạn có thể thảo luận ý tưởng với bạn khác, nhưng <font color=green>code và bài làm phải là của bạn, dựa trên sự hiểu thật sự của bạn</font>. <font color=red>Nếu vi phạm thì sẽ bị 0 điểm cho toàn bộ môn học.</font>*\n",
    "\n",
    "**Cách nộp bài**\n",
    "\n",
    "Khi chấm bài, đầu tiên mình sẽ chọn `Kernel` - `Restart Kernel & Run All Cells`, để restart và chạy tất cả các cell trong notebook của bạn; do đó, trước khi nộp bài, bạn nên chạy thử `Kernel` - `Restart Kernel & Run All Cells` để đảm bảo mọi chuyện diễn ra đúng như mong đợi.\n",
    "\n",
    "Sau đó, bạn tạo thư mục nộp bài theo cấu trúc sau:\n",
    "- Thư mục `MSSV` (vd, nếu bạn có MSSV là 1234567 thì bạn đặt tên thư mục là `1234567`)\n",
    "    - Thư mục `BT02`\n",
    "        - File `BT02-AnTinMatTrenAnhGif_LSB.ipynb` (không cần nộp các file khác)\n",
    "\n",
    "Cuối cùng, bạn nén thư mục `MSSV` này lại và nộp ở link trên moodle. <font color=red>Bạn lưu ý tuân thủ chính xác cấu trúc này.</font>"
   ]
  },
  {
   "cell_type": "markdown",
   "metadata": {},
   "source": [
    "---\n",
    "## Import"
   ]
  },
  {
   "cell_type": "code",
   "execution_count": 10,
   "metadata": {},
   "outputs": [],
   "source": [
    "from bitarray import bitarray\n",
    "import numpy as np\n",
    "from PIL import Image\n",
    "import matplotlib.pyplot as plt\n",
    "\n",
    "import skimage.io"
   ]
  },
  {
   "cell_type": "markdown",
   "metadata": {},
   "source": [
    "---\n",
    "## Định nghĩa các hàm hỗ trợ (nếu cần)"
   ]
  },
  {
   "cell_type": "code",
   "execution_count": 14,
   "metadata": {},
   "outputs": [],
   "source": [
    "# Lớp thông tin của các phần tử bảng màu\n",
    "class ItemPalette():\n",
    "    # Khai báo các thuộc tính:\n",
    "    IndexPalette = -1   # Index của phần tử\n",
    "    RGBPalette = np.zeros(3, dtype = np.uint8)  # Giá trị của RGB\n",
    "    DistanceEuclid = 0 # Khoảng cách của phần tử đến một phần tử khác\n",
    "\n",
    "    # Phương thức khởi tạo\n",
    "    def __init__(self, _IndexPalette = -1, _RGBPalette = np.zeros(3, dtype = np.uint8), _DistanceEuclid = 0):\n",
    "        self.IndexPalette = _IndexPalette\n",
    "        self.RGBPalette = _RGBPalette\n",
    "        self.DistanceEuclid = _DistanceEuclid\n",
    "\n",
    "# Hàm xác định bit nhúng của pixels\n",
    "def specify_bit_embed(rgb):\n",
    "    if (rgb[0] + rgb[1] + rgb[2]) % 2 == 1:\n",
    "        return 1\n",
    "    else:\n",
    "        return 0\n",
    "\n",
    "# Hàm phân tách bảng màu thành 2 phần: Phần nhúng bit 1 và phần nhúng bit 0\n",
    "# Phần nhúng bit 0 gồm những pixels có rgb sao cho (R+G+B)%2 = 0\n",
    "# Phần nhúng bit 1 gồm những pixels có rgb sao cho (R+G+B)%2 = 1\n",
    "def partition_palette(palette):\n",
    "    lstBit0 = []\n",
    "    lstBit1 = []\n",
    "    for idx, rgb in enumerate(palette[0]):\n",
    "        objItemPalette = ItemPalette()\n",
    "        objItemPalette.IndexPalette = idx\n",
    "        objItemPalette.RGBPalette = rgb        \n",
    "        if specify_bit_embed(rgb) == 0:\n",
    "            lstBit0.append(objItemPalette)\n",
    "        else:\n",
    "            lstBit1.append(objItemPalette)\n",
    "    return lstBit0, lstBit1\n",
    "\n",
    "# Hàm tính khoảng cách Euclid giữa hai numpy array\n",
    "def dist_euclid(x,y):\n",
    "    return np.sqrt(np.sum((x-y)**2))\n",
    "\n",
    "# Tìm khoảng cách Euclid nhỏ nhất giữa một phần tử trong bảng màu với các phần tử khác trong bảng\n",
    "# idxRGB: Chỉ số của phần tử trong bảng màu\n",
    "# rgb: Giá trị RGB của phần tử\n",
    "# lstBit: Danh sách các phần tử còn lại\n",
    "def min_distance_euclid(idxRGB, rgb, lstBit):\n",
    "    objItemPalette = ItemPalette()\n",
    "    # Khởi tạo khoảng cách nhỏ nhất\n",
    "    if idxRGB == 0:\n",
    "        rgbX = rgb.astype(np.int)\n",
    "        rgbY = lstBit[1].RGBPalette.astype(np.int)\n",
    "        distMin = dist_euclid(rgbX, rgbY)\n",
    "    else:\n",
    "        rgbX = rgb.astype(np.int)\n",
    "        rgbY = lstBit[0].RGBPalette.astype(np.int)\n",
    "        distMin = dist_euclid(rgbX, rgbY)        \n",
    "\n",
    "    # Tính khoảng cách Euclid của phần tử đến các phần tử khác => Cập nhật phần tử có khoảng cách nhỏ nhất   \n",
    "    for item in lstBit:\n",
    "        if idxRGB == item.IndexPalette:\n",
    "            continue\n",
    "        x = rgb.astype(np.int)\n",
    "        y = item.RGBPalette.astype(np.int)\n",
    "        dist = dist_euclid(x, y)\n",
    "        if dist < distMin:\n",
    "            objItemPalette.IndexPalette = item.IndexPalette\n",
    "            objItemPalette.RGBPalette = item.RGBPalette\n",
    "            objItemPalette.DistanceEuclid = dist\n",
    "            distMin = dist\n",
    "\n",
    "    return objItemPalette\n",
    "\n",
    "# Hiển thị histogram của ảnh\n",
    "# Nguồn: https://datacarpentry.org/image-processing/05-creating-histograms/\n",
    "def show_histogram_image(imageName):\n",
    "    image = skimage.io.imread(fname=imageName)\n",
    "\n",
    "    # tuple to select colors of each channel line\n",
    "    colors = (\"r\", \"g\", \"b\")\n",
    "    channel_ids = (0, 1, 2)\n",
    "    \n",
    "    # create the histogram plot, with three lines, one for each color\n",
    "    plt.xlim([0, 256])\n",
    "    for channel_id, c in zip(channel_ids, colors):\n",
    "        histogram, bin_edges = np.histogram(\n",
    "            image[:, :, channel_id], bins=256, range=(0, 256)\n",
    "        )\n",
    "        plt.plot(bin_edges[0:-1], histogram, color=c)\n",
    "    \n",
    "    plt.xlabel(\"Giá trị màu\")\n",
    "    plt.ylabel(\"Điểm ảnh\")\n",
    "    plt.show()"
   ]
  },
  {
   "cell_type": "markdown",
   "metadata": {},
   "source": [
    "---\n",
    "## Hàm nhúng (7đ, trong đó: phần code 5đ, phần nhận xét và giải thích kết quả 2đ)"
   ]
  },
  {
   "cell_type": "markdown",
   "metadata": {},
   "source": [
    "&#9889; Lưu ý:\n",
    "- Khi tính toán bạn cần để ý kiểu dữ liệu. Ví dụ, nếu lấy 2 giá trị có kiểu dữ liệu `uint8` trừ cho nhau thì kết quả cũng sẽ có kiểu `uint8` và sẽ bị sai.\n",
    "- Qui ước (để mình và bạn ra cùng kết quả): nếu trong bảng màu có nhiều màu thỏa điều kiện tìm kiếm thì lấy màu có chỉ số nhỏ nhất trong bảng màu. Nếu bạn có dùng hàm `sort` hay `argsort` của numpy thì bạn cần truyền tham số `kind=\"stable\"`; nếu không thì các phần tử có giá trị giống nhau có thể sẽ bị thay đổi thứ tự tương đối với nhau trong quá trình sort."
   ]
  },
  {
   "cell_type": "code",
   "execution_count": 5,
   "metadata": {
    "deletable": false,
    "nbgrader": {
     "cell_type": "code",
     "checksum": "c83895e911261d69f1784cb931b5634f",
     "grade": false,
     "grade_id": "cell-6b22986247c16055",
     "locked": false,
     "schema_version": 3,
     "solution": true,
     "task": false
    }
   },
   "outputs": [],
   "source": [
    "def embed(msg_file, cover_img_file, stego_img_file):\n",
    "    '''\n",
    "    Nhúng tin mật vào ảnh gif (ảnh palette-base) bằng phương pháp của Fridrich \n",
    "    (xem file slide \"06-AnTinMatTrenAnh2.pdf\", trang 24).\n",
    "    \n",
    "    Các tham số:\n",
    "        msg_file (str): Tên file chứa secret message.\n",
    "        cover_img_file (str): Tên file chứa cover image.\n",
    "        stego_img_file (str): Tên file chứa stego image (kết quả sau khi nhúng).\n",
    "    Giá trị trả về:\n",
    "        bool: True nếu nhúng thành không, False nếu không đủ chỗ để nhúng. \n",
    "    '''\n",
    "    # Đọc cover img file\n",
    "    cover_img = Image.open(cover_img_file)\n",
    "    cover_pixels = np.array(cover_img)\n",
    "    palette = cover_img.getpalette() # Kết quả là list các giá trị Red, Green, Blue của các màu \n",
    "                                     # trong bảng màu, 3 giá trị liên tiếp ứng với một màu\n",
    "    palette = np.array(palette, dtype=np.uint8).reshape(1, -1, 3) # Reshape lại dưới dạng ảnh RGB\n",
    "    #----------------------------------------------------------------------------------------------\n",
    "    \n",
    "    # Đọc file tin mật\n",
    "    with open(msg_file, 'r') as f:\n",
    "        msg = f.read()\n",
    "\n",
    "    # Chuyển đổi tin mật sang dạng tin mật\n",
    "    msg_bits = bitarray()\n",
    "    msg_bits.fromstring(msg)    \n",
    "    \n",
    "    # Thêm đuôi 100.... vào\n",
    "    num_bit_add =  cover_pixels.size - len(msg_bits)\n",
    "    if num_bit_add > 0:\n",
    "        msg_bits.append(True)                   # Thêm bit 1 vào  \n",
    "        bit_add = [False] * (num_bit_add - 1) \n",
    "        msg_bits.extend(bit_add)                # Thêm  một list bit 0 vào\n",
    "    else:\n",
    "        return False\n",
    "    #----------------------------------------------------------------------------------------------\n",
    "    \n",
    "    # Chia bảng màu thành 2 phần: Phần nhúng bit 1 và phần nhúng bit 0\n",
    "    lst_bit_0, lst_bit_1 = partition_palette(palette)\n",
    "    \n",
    "    # Tiến hành nhúng bit\n",
    "    idx_bit_Embed = 0\n",
    "    stego_pixels = np.empty_like(cover_pixels)\n",
    "    for idx, pixelsIdx in np.ndenumerate(cover_pixels):\n",
    "        rgb = palette[0][pixelsIdx]\n",
    "        if msg_bits[idx_bit_Embed]:\n",
    "            obj = min_distance_euclid(pixelsIdx, rgb, lst_bit_1)\n",
    "        else:\n",
    "            obj = min_distance_euclid(pixelsIdx, rgb, lst_bit_0)\n",
    "        stego_pixels[idx] = obj.IndexPalette\n",
    "        idx_bit_Embed += 1\n",
    "    #----------------------------------------------------------------------------------------------  \n",
    "    \n",
    "    # Ghi stego pixels cùng palette xuống file\n",
    "    stego_img = Image.fromarray(stego_pixels)\n",
    "    stego_img.putpalette(cover_img.getpalette())\n",
    "    stego_img.save(stego_img_file)\n",
    "    \n",
    "    return True"
   ]
  },
  {
   "cell_type": "code",
   "execution_count": 6,
   "metadata": {
    "deletable": false,
    "editable": false,
    "nbgrader": {
     "cell_type": "code",
     "checksum": "872fcbb20ecd7940e3a9a8a7580610fb",
     "grade": true,
     "grade_id": "cell-05bfc2d02048d178",
     "locked": true,
     "points": 0.5,
     "schema_version": 3,
     "solution": false,
     "task": false
    }
   },
   "outputs": [],
   "source": [
    "# TEST \n",
    "result = embed('msg2.txt', 'lena.gif', 'lena_stego.gif')\n",
    "assert result == False"
   ]
  },
  {
   "cell_type": "code",
   "execution_count": 8,
   "metadata": {
    "deletable": false,
    "editable": false,
    "nbgrader": {
     "cell_type": "code",
     "checksum": "685ce815f77212228f4daa3ce0eb50af",
     "grade": true,
     "grade_id": "cell-03e5ced35879692f",
     "locked": true,
     "points": 2.25,
     "schema_version": 3,
     "solution": false,
     "task": false
    }
   },
   "outputs": [
    {
     "name": "stderr",
     "output_type": "stream",
     "text": [
      "C:\\ProgramData\\Anaconda3\\lib\\site-packages\\ipykernel_launcher.py:16: RuntimeWarning: overflow encountered in ubyte_scalars\n",
      "  app.launch_new_instance()\n"
     ]
    },
    {
     "ename": "AssertionError",
     "evalue": "",
     "output_type": "error",
     "traceback": [
      "\u001b[1;31m---------------------------------------------------------------------------\u001b[0m",
      "\u001b[1;31mAssertionError\u001b[0m                            Traceback (most recent call last)",
      "\u001b[1;32m<ipython-input-8-29c2c2f4444a>\u001b[0m in \u001b[0;36m<module>\u001b[1;34m\u001b[0m\n\u001b[0;32m      8\u001b[0m \u001b[0mcorrect_stego_pixels\u001b[0m \u001b[1;33m=\u001b[0m \u001b[0mnp\u001b[0m\u001b[1;33m.\u001b[0m\u001b[0marray\u001b[0m\u001b[1;33m(\u001b[0m\u001b[0mcorrect_stego_img\u001b[0m\u001b[1;33m)\u001b[0m\u001b[1;33m\u001b[0m\u001b[1;33m\u001b[0m\u001b[0m\n\u001b[0;32m      9\u001b[0m \u001b[0mcorrect_stego_palette\u001b[0m \u001b[1;33m=\u001b[0m \u001b[0mcorrect_stego_img\u001b[0m\u001b[1;33m.\u001b[0m\u001b[0mgetpalette\u001b[0m\u001b[1;33m(\u001b[0m\u001b[1;33m)\u001b[0m\u001b[1;33m\u001b[0m\u001b[1;33m\u001b[0m\u001b[0m\n\u001b[1;32m---> 10\u001b[1;33m \u001b[1;32massert\u001b[0m \u001b[0mnp\u001b[0m\u001b[1;33m.\u001b[0m\u001b[0mall\u001b[0m\u001b[1;33m(\u001b[0m\u001b[0mstego_pixels\u001b[0m \u001b[1;33m==\u001b[0m \u001b[0mcorrect_stego_pixels\u001b[0m\u001b[1;33m)\u001b[0m\u001b[1;33m\u001b[0m\u001b[1;33m\u001b[0m\u001b[0m\n\u001b[0m\u001b[0;32m     11\u001b[0m \u001b[1;32massert\u001b[0m \u001b[0mstego_palette\u001b[0m \u001b[1;33m==\u001b[0m \u001b[0mcorrect_stego_palette\u001b[0m\u001b[1;33m\u001b[0m\u001b[1;33m\u001b[0m\u001b[0m\n",
      "\u001b[1;31mAssertionError\u001b[0m: "
     ]
    }
   ],
   "source": [
    "# TEST             \n",
    "result = embed('msg.txt', 'lena.gif', 'lena_stego.gif')\n",
    "assert result == True\n",
    "stego_img = Image.open('lena_stego.gif')\n",
    "stego_pixels = np.array(stego_img)\n",
    "stego_palette = stego_img.getpalette()\n",
    "correct_stego_img = Image.open('correct_lena_stego.gif')\n",
    "correct_stego_pixels = np.array(correct_stego_img)\n",
    "correct_stego_palette = correct_stego_img.getpalette()\n",
    "assert np.all(stego_pixels == correct_stego_pixels)\n",
    "assert stego_palette == correct_stego_palette"
   ]
  },
  {
   "cell_type": "code",
   "execution_count": 7,
   "metadata": {
    "deletable": false,
    "editable": false,
    "nbgrader": {
     "cell_type": "code",
     "checksum": "1f7f669222a969c68cbbed0766ca63da",
     "grade": true,
     "grade_id": "cell-955c9ea844d659e9",
     "locked": true,
     "points": 2.25,
     "schema_version": 3,
     "solution": false,
     "task": false
    }
   },
   "outputs": [
    {
     "name": "stderr",
     "output_type": "stream",
     "text": [
      "C:\\ProgramData\\Anaconda3\\lib\\site-packages\\ipykernel_launcher.py:16: RuntimeWarning: overflow encountered in ubyte_scalars\n",
      "  app.launch_new_instance()\n"
     ]
    },
    {
     "ename": "AssertionError",
     "evalue": "",
     "output_type": "error",
     "traceback": [
      "\u001b[1;31m---------------------------------------------------------------------------\u001b[0m",
      "\u001b[1;31mAssertionError\u001b[0m                            Traceback (most recent call last)",
      "\u001b[1;32m<ipython-input-7-cedb325b4bf9>\u001b[0m in \u001b[0;36m<module>\u001b[1;34m\u001b[0m\n\u001b[0;32m      8\u001b[0m \u001b[0mcorrect_stego_pixels\u001b[0m \u001b[1;33m=\u001b[0m \u001b[0mnp\u001b[0m\u001b[1;33m.\u001b[0m\u001b[0marray\u001b[0m\u001b[1;33m(\u001b[0m\u001b[0mcorrect_stego_img\u001b[0m\u001b[1;33m)\u001b[0m\u001b[1;33m\u001b[0m\u001b[1;33m\u001b[0m\u001b[0m\n\u001b[0;32m      9\u001b[0m \u001b[0mcorrect_stego_palette\u001b[0m \u001b[1;33m=\u001b[0m \u001b[0mcorrect_stego_img\u001b[0m\u001b[1;33m.\u001b[0m\u001b[0mgetpalette\u001b[0m\u001b[1;33m(\u001b[0m\u001b[1;33m)\u001b[0m\u001b[1;33m\u001b[0m\u001b[1;33m\u001b[0m\u001b[0m\n\u001b[1;32m---> 10\u001b[1;33m \u001b[1;32massert\u001b[0m \u001b[0mnp\u001b[0m\u001b[1;33m.\u001b[0m\u001b[0mall\u001b[0m\u001b[1;33m(\u001b[0m\u001b[0mstego_pixels\u001b[0m \u001b[1;33m==\u001b[0m \u001b[0mcorrect_stego_pixels\u001b[0m\u001b[1;33m)\u001b[0m\u001b[1;33m\u001b[0m\u001b[1;33m\u001b[0m\u001b[0m\n\u001b[0m\u001b[0;32m     11\u001b[0m \u001b[1;32massert\u001b[0m \u001b[0mstego_palette\u001b[0m \u001b[1;33m==\u001b[0m \u001b[0mcorrect_stego_palette\u001b[0m\u001b[1;33m\u001b[0m\u001b[1;33m\u001b[0m\u001b[0m\n",
      "\u001b[1;31mAssertionError\u001b[0m: "
     ]
    }
   ],
   "source": [
    "# TEST             \n",
    "result = embed('msg.txt', 'baboon.gif', 'baboon_stego.gif')\n",
    "assert result == True\n",
    "stego_img = Image.open('lena_stego.gif')\n",
    "stego_pixels = np.array(stego_img)\n",
    "stego_palette = stego_img.getpalette()\n",
    "correct_stego_img = Image.open('correct_lena_stego.gif')\n",
    "correct_stego_pixels = np.array(correct_stego_img)\n",
    "correct_stego_palette = correct_stego_img.getpalette()\n",
    "assert np.all(stego_pixels == correct_stego_pixels)\n",
    "assert stego_palette == correct_stego_palette"
   ]
  },
  {
   "cell_type": "markdown",
   "metadata": {},
   "source": [
    "Xem các ảnh và so sánh tính vô hình khi nhúng trên ảnh \"lena.gif\" với khi nhúng trên ảnh \"baboon.gif\". Theo bạn, tại sao lại như vậy? (Gợi ý: trong hàm nhúng ở trên, bạn có thể tính và cho in ra giá trị trung bình của khoảng cách từ mỗi màu trong bảng màu tới màu gần nhất mà có (R+G+B)%2 khác với (R+G+B)%2 của mình)"
   ]
  },
  {
   "cell_type": "markdown",
   "metadata": {
    "deletable": false,
    "nbgrader": {
     "cell_type": "markdown",
     "checksum": "f893843878e97b85f68a23ee68ad571c",
     "grade": true,
     "grade_id": "cell-ac94d86414e139cb",
     "locked": false,
     "points": 2,
     "schema_version": 3,
     "solution": true,
     "task": false
    }
   },
   "source": [
    "- Tính vô hình của ảnh baboon.gif tốt hơn của ảnh lena.gif\n",
    "- Nguyên nhân:\n",
    "    - Dựa vào histogram (hình bên dưới) ta thấy:  \n",
    "      Ảnh \"lena.gif\" có phân bố màu không đều bằng ảnh \"baboon.gif\" nên khi thấy một pixels bằng một pixels dù gần nhất thì sự sai khác về màu sắc vẫn là rất lớn làm ảnh hưởng đến tính vô hình của ảnh sau khi nhúng"
   ]
  },
  {
   "cell_type": "code",
   "execution_count": 15,
   "metadata": {},
   "outputs": [
    {
     "data": {
      "image/png": "[encoded data removed]",
      "text/plain": [
       "<Figure size 432x288 with 1 Axes>"
      ]
     },
     "metadata": {
      "needs_background": "light"
     },
     "output_type": "display_data"
    }
   ],
   "source": [
    "show_histogram_image('lena.gif')"
   ]
  },
  {
   "cell_type": "code",
   "execution_count": 16,
   "metadata": {},
   "outputs": [
    {
     "data": {
      "image/png": "[encoded data removed]",
      "text/plain": [
       "<Figure size 432x288 with 1 Axes>"
      ]
     },
     "metadata": {
      "needs_background": "light"
     },
     "output_type": "display_data"
    }
   ],
   "source": [
    "show_histogram_image('baboon.gif')"
   ]
  },
  {
   "cell_type": "markdown",
   "metadata": {},
   "source": [
    "---\n",
    "## Hàm rút trích (3đ)"
   ]
  },
  {
   "cell_type": "code",
   "execution_count": 3,
   "metadata": {
    "deletable": false,
    "nbgrader": {
     "cell_type": "code",
     "checksum": "6793cda6ed24899330e912a6fb483510",
     "grade": false,
     "grade_id": "cell-2ce99db3aa221d29",
     "locked": false,
     "schema_version": 3,
     "solution": true,
     "task": false
    }
   },
   "outputs": [],
   "source": [
    "def extract(stego_img_file, extr_msg_file):\n",
    "    '''\n",
    "    Hàm rút trích tin mật đã được nhúng vào ảnh bằng phương pháp của Fridrich.\n",
    "    \n",
    "    Các tham số:\n",
    "        stego_img_file (str): Tên file chứa stego image.\n",
    "        extr_msg_file (str): Tên file chứa secret message được rút trích.\n",
    "    '''\n",
    "    # Đọc ảnh:\n",
    "    imgStego = Image.open(stego_img_file)\n",
    "    # Lấy bảng chỉ số màu của ảnh\n",
    "    tableIndexs = np.array(imgStego)\n",
    "    # Lấy bảng màu\n",
    "    palette = imgStego.getpalette()\n",
    "    nparrayImg = np.array(palette)\n",
    "    nparrayReshape = nparrayImg.reshape((1,-1,3))   \n",
    "    # Lấy thông tin bit nhúng\n",
    "    lstBitEmbed = list()\n",
    "    for pixelsIdxRow in tableIndexs: # Duyệt từng dòng \n",
    "        for pixelsIdx in pixelsIdxRow: # Duyệt từng phần tử trên mỗi dòng\n",
    "            rgbPixels = nparrayReshape[0, pixelsIdx]  # Lấy RGB của pixels dựa vào chỉ số và bảng màu\n",
    "            bit = specify_bit_embed(rgbPixels) # xác định bit nhúng\n",
    "            lstBitEmbed.append(bit) # Thêm vào danh sách bit\n",
    "    \n",
    "    # Chuyển sang chuỗi bit + Cắt đuôi 100... \n",
    "    extr_msg_bits = bitarray(lstBitEmbed)\n",
    "    extr_msg_bits = extr_msg_bits[:extr_msg_bits.to01().rfind('1')]\n",
    "    extr_msg = extr_msg_bits.tostring()\n",
    "    \n",
    "    # Ghi msg xuống file\n",
    "    with open(extr_msg_file, 'w') as f:\n",
    "        f.write(extr_msg)"
   ]
  },
  {
   "cell_type": "code",
   "execution_count": 4,
   "metadata": {
    "deletable": false,
    "editable": false,
    "nbgrader": {
     "cell_type": "code",
     "checksum": "019abd2a511efc687a3dc0083a56b338",
     "grade": true,
     "grade_id": "cell-f901a6c28df966e1",
     "locked": true,
     "points": 3,
     "schema_version": 3,
     "solution": false,
     "task": false
    }
   },
   "outputs": [],
   "source": [
    "# TEST\n",
    "extract('correct_baboon_stego.gif', 'extr_msg.txt')\n",
    "with open('extr_msg.txt', 'r') as f:\n",
    "    extr_msg = f.read()\n",
    "with open('msg.txt', 'r') as f:\n",
    "    correct_extr_msg = f.read()\n",
    "assert extr_msg == correct_extr_msg"
   ]
  }
 ],
 "metadata": {
  "anaconda-cloud": {},
  "kernelspec": {
   "display_name": "Python 3",
   "language": "python",
   "name": "python3"
  },
  "language_info": {
   "codemirror_mode": {
    "name": "ipython",
    "version": 3
   },
   "file_extension": ".py",
   "mimetype": "text/x-python",
   "name": "python",
   "nbconvert_exporter": "python",
   "pygments_lexer": "ipython3",
   "version": "3.7.5"
  },
  "toc": {
   "nav_menu": {},
   "number_sections": false,
   "sideBar": true,
   "skip_h1_title": true,
   "title_cell": "Table of Contents",
   "title_sidebar": "Contents",
   "toc_cell": false,
   "toc_position": {
    "height": "calc(100% - 180px)",
    "left": "10px",
    "top": "150px",
    "width": "165px"
   },
   "toc_section_display": true,
   "toc_window_display": true
  }
 },
 "nbformat": 4,
 "nbformat_minor": 4
}
