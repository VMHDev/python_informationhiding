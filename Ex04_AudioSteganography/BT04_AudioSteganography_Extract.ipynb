{
 "cells": [
  {
   "cell_type": "code",
   "execution_count": 1,
   "metadata": {},
   "outputs": [],
   "source": [
    "from scipy.io import wavfile\n",
    "import numpy as np\n",
    "import matplotlib.pyplot as plt\n",
    "from IPython.display import Audio\n",
    "from bitarray import bitarray"
   ]
  },
  {
   "cell_type": "code",
   "execution_count": 21,
   "metadata": {},
   "outputs": [],
   "source": [
    "stego_aud_file = 'correct_stego.wav'    # Tên file chứa stego audio\n",
    "num_segments = 64                       # Số lượng đoạn sóng dùng để nhúng (mỗi đoạn sẽ nhúng một bit)\n",
    "time_delta0 = 0.03                      # Độ trễ (giây) của echo ứng với bit 0\n",
    "time_delta1 = 0.031                      # Độ trễ (giây) của echo ứng với bit 1"
   ]
  },
  {
   "cell_type": "code",
   "execution_count": 22,
   "metadata": {},
   "outputs": [
    {
     "name": "stdout",
     "output_type": "stream",
     "text": [
      "44100\n",
      "[  0  -5 -12 ...  -3   4  -3]\n",
      "279510\n"
     ]
    }
   ],
   "source": [
    "rate, stego_samples = wavfile.read(stego_aud_file)\n",
    "print(rate)\n",
    "print(stego_samples)\n",
    "print(len(stego_samples))"
   ]
  },
  {
   "cell_type": "code",
   "execution_count": 30,
   "metadata": {},
   "outputs": [
    {
     "name": "stdout",
     "output_type": "stream",
     "text": [
      "1323\n",
      "1367\n",
      "4367\n"
     ]
    }
   ],
   "source": [
    "rate, stego_samples = wavfile.read(stego_aud_file)\n",
    "sample_delay0 = int(time_delta0 * rate)\n",
    "sample_delay1 = int(time_delta1 * rate)\n",
    "sample_segment = int(len(stego_samples)/ num_segments)\n",
    "i0 = sample_delay0\n",
    "i1 = sample_delay1\n",
    "msg_bits = np.empty(0)\n",
    "\n",
    "print(i0)\n",
    "print(i1)\n",
    "print(sample_segment)"
   ]
  },
  {
   "cell_type": "markdown",
   "metadata": {},
   "source": [
    "i = 0\n",
    "while i < num_segments:    \n",
    "    print(i)\n",
    "    i += 1 "
   ]
  },
  {
   "cell_type": "markdown",
   "metadata": {},
   "source": [
    "for i in range(0, num_segments):\n",
    "    print(i)"
   ]
  },
  {
   "cell_type": "code",
   "execution_count": 29,
   "metadata": {},
   "outputs": [
    {
     "name": "stdout",
     "output_type": "stream",
     "text": [
      "4367\n",
      "4367\n",
      "4367\n",
      "4367\n",
      "4367\n",
      "4367\n",
      "4367\n",
      "4367\n",
      "4367\n",
      "4367\n",
      "4367\n",
      "4367\n",
      "4367\n",
      "4367\n",
      "4367\n",
      "4367\n",
      "4367\n",
      "4367\n",
      "4367\n",
      "4367\n",
      "4367\n",
      "4367\n",
      "4367\n",
      "4367\n",
      "4367\n",
      "4367\n",
      "4367\n",
      "4367\n",
      "4367\n",
      "4367\n",
      "4367\n",
      "4367\n",
      "4367\n",
      "4367\n",
      "4367\n",
      "4367\n",
      "4367\n",
      "4367\n",
      "4367\n",
      "4367\n",
      "4367\n",
      "4367\n",
      "4367\n",
      "4367\n",
      "4367\n",
      "4367\n",
      "4367\n",
      "4367\n",
      "4367\n",
      "4367\n",
      "4367\n",
      "4367\n",
      "4367\n",
      "4367\n",
      "4367\n",
      "4367\n",
      "4367\n",
      "4367\n",
      "4367\n",
      "4367\n",
      "4367\n",
      "4367\n",
      "4367\n",
      "4367\n"
     ]
    }
   ],
   "source": [
    "r_start = 0\n",
    "for i in range(0, num_segments):\n",
    "    # Trong từng block nhúng bit\n",
    "    block = stego_samples[r_start: (r_start + sample_segment)]\n",
    "    r_start += sample_segment\n",
    "    print(len(block))\n",
    "    \n",
    "    # autocorrelation\n",
    "#     acs = []\n",
    "#     temp = (block - block.mean()) / (block.var() ** 0.5) \n",
    "#     for k in range(0, len(block)): \n",
    "#         if k == 0: \n",
    "#             ac = np.mean(temp * temp)\n",
    "#         else:\n",
    "#             ac = np.mean(temp[:-k] * temp[k:])\n",
    "#         acs.append(ac)\n",
    "#     print(len(acs))\n",
    "#     print(acs)\n",
    "#     break\n",
    "#     if(acs[i0] > acs[i1]):\n",
    "#         msg_bits= np.append(msg_bits,False)\n",
    "#     else:\n",
    "#         msg_bits = np.append(msg_bits,True)\n",
    "        \n",
    "# print(msg_bits)     "
   ]
  },
  {
   "cell_type": "code",
   "execution_count": null,
   "metadata": {},
   "outputs": [],
   "source": []
  }
 ],
 "metadata": {
  "kernelspec": {
   "display_name": "Python 3",
   "language": "python",
   "name": "python3"
  },
  "language_info": {
   "codemirror_mode": {
    "name": "ipython",
    "version": 3
   },
   "file_extension": ".py",
   "mimetype": "text/x-python",
   "name": "python",
   "nbconvert_exporter": "python",
   "pygments_lexer": "ipython3",
   "version": "3.7.5"
  }
 },
 "nbformat": 4,
 "nbformat_minor": 4
}
