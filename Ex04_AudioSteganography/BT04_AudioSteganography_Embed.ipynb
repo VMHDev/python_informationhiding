{
 "cells": [
  {
   "cell_type": "code",
   "execution_count": 1,
   "metadata": {},
   "outputs": [],
   "source": [
    "import numpy as np\n",
    "from bitarray import bitarray\n",
    "from scipy.io import wavfile\n",
    "import matplotlib.pyplot as plt\n",
    "from IPython.display import Audio"
   ]
  },
  {
   "cell_type": "code",
   "execution_count": 2,
   "metadata": {},
   "outputs": [],
   "source": [
    "def compute_msg_bits(msg_file, cover_aud_file, num_segments):\n",
    "    '''\n",
    "    Tính message bits (đã có đuôi 100...) từ message file.\n",
    "    Các tham số:\n",
    "        msg_file (str): Tên file chứa secret message.\n",
    "        cover_aud_file (str): Tên file chứa cover audio.\n",
    "        num_segments (int): Số lượng đoạn sóng dùng để nhúng (mỗi đoạn sẽ nhúng một bit).\n",
    "    Giá trị trả về:\n",
    "        Mảng numpy (một chiều, dtype = bool): message bits (đã thêm 100...), \n",
    "                                              chiều dài của mảng này = num_segments,\n",
    "                                              nếu không đủ chỗ nhúng thì trả về mảng rỗng.\n",
    "    '''\n",
    "    # Đọc msg file\n",
    "    with open(msg_file, 'r') as f:\n",
    "        msg = f.read()\n",
    "    \n",
    "    # Chuyển msg thành msg bits\n",
    "    msg_bits = bitarray(); msg_bits.fromstring(msg)\n",
    "   \n",
    "    # Kiểm xem có nhúng được không?\n",
    "    _, cover_samples = wavfile.read(cover_aud_file)\n",
    "    if len(msg_bits) + 1 > num_segments:\n",
    "        print('Cannot embed!')\n",
    "        return np.array([])  \n",
    "    \n",
    "    # Thêm '100...' vào msg bits\n",
    "    msg_bits.extend('1' + '0' * (num_segments - len(msg_bits) - 1))\n",
    "    \n",
    "    return np.array(list(msg_bits))"
   ]
  },
  {
   "cell_type": "code",
   "execution_count": 3,
   "metadata": {},
   "outputs": [],
   "source": [
    "cover_aud_file = 'stego.wav'\n",
    "num_segments = 64\n",
    "msg_bits = compute_msg_bits('msg.txt', 'cover.wav', num_segments)\n",
    "time_delta0 = 0.03\n",
    "time_delta1 = 0.031\n",
    "decay_rate = 1\n",
    "stego_aud_file = 'stego.wav'"
   ]
  },
  {
   "cell_type": "code",
   "execution_count": 4,
   "metadata": {},
   "outputs": [],
   "source": [
    "# Đọc file âm thanh phủ - cover_aud_file\n",
    "rate, cover_samples = wavfile.read(cover_aud_file)\n",
    "len_cover_samples = len(cover_samples)\n",
    "\n",
    "# Xác định các thông số\n",
    "len_sample_segment = int(len(cover_samples)/ num_segments)    # Số lượng samples trên mỗi đoạn được nhúng bit - tạo echo  \n",
    "len_echo = num_segments * len_sample_segment                  # Số lượng samples nhúng được bit - tạo echo (Kích thước của echo) (= 279488)\n",
    "len_not_echo = len_cover_samples - len_echo                   # Số lượng samples không được nhúng bit - tạo echo (=22)\n",
    "\n",
    "sample_not_echo = cover_samples[len_echo:]                    # Danh sách các samples không được nhúng bit - tạo echo    \n",
    "# ------------------------------------------------------------------------------------------------------------------------------"
   ]
  },
  {
   "cell_type": "code",
   "execution_count": 5,
   "metadata": {},
   "outputs": [],
   "source": [
    "# Tạo echo ứng với bit 0\n",
    "echo_delay_bit0 = np.zeros_like(cover_samples)                                                 # Khởi tạo echo\n",
    "rate_delay_bit0 = int(time_delta0 * rate)                                                      # Khoảng trễ của echo bit 0\n",
    "echo_delay_bit0[rate_delay_bit0:] = cover_samples[:-rate_delay_bit0] * decay_rate              # Tạo echo chứa bit 0 với khoảng trễ rate_delay_bit0\n",
    "echo_bit0 = echo_delay_bit0[0:len_echo]                                                        # Cắt bỏ đoạn samples tạo dư (Đoạn tạo độ trễ có kích thước 279510 sample mà chỉ 279488 sample cần tạo echo)\n",
    "echo_bit0 = np.append(echo_bit0, sample_not_echo)                                              # Bổ sung thêm đoạn samples không có echo    \n",
    "# ------------------------------------------------------------------------------------------------------------------------------  "
   ]
  },
  {
   "cell_type": "code",
   "execution_count": 6,
   "metadata": {},
   "outputs": [],
   "source": [
    "# Tạo echo ứng với bit 1\n",
    "echo_delay_bit1 = np.zeros_like(cover_samples)                                                 # Khởi tạo echo\n",
    "rate_delay_bit1 = int(time_delta1 * rate)                                                      # Khoảng trễ của echo bit 1\n",
    "echo_delay_bit1[rate_delay_bit1:] = cover_samples[:-rate_delay_bit1] * decay_rate              # Tạo echo chứa bit 1 với khoảng trễ rate_delay_bit1\n",
    "echo_bit1 = echo_delay_bit1[0:len_echo]                                                        # Cắt bỏ đoạn samples tạo dư (Đoạn tạo độ trễ có kích thước 279510 sample mà chỉ 279488 sample cần tạo echo)\n",
    "echo_bit1 = np.append(echo_bit1, sample_not_echo)                                              # Bổ sung thêm đoạn samples không có echo    \n",
    "# ------------------------------------------------------------------------------------------------------------------------------"
   ]
  },
  {
   "cell_type": "code",
   "execution_count": 7,
   "metadata": {},
   "outputs": [],
   "source": [
    "# Tạo mixer1 dựa vào chuỗi bit nhúng\n",
    "idx_Mixer1 = 0\n",
    "mixer1 = np.empty_like(cover_samples)\n",
    "for idx_Segments in range(0, num_segments): # Xét trên mỗi đoạn sample gán bit tương ứng trên mỗi đoạn\n",
    "    mixer1[idx_Mixer1: idx_Mixer1 + len_sample_segment] = int(msg_bits[idx_Segments])\n",
    "    idx_Mixer1 += len_sample_segment\n",
    "\n",
    "# Tạo mixer0 dựa mixer1\n",
    "mixer0 = 1 - mixer1"
   ]
  },
  {
   "cell_type": "code",
   "execution_count": 8,
   "metadata": {},
   "outputs": [],
   "source": [
    "# Tạo stego_audio\n",
    "cover_audio_bit0 = cover_samples + echo_bit0                                 # Tạo đoạn echo chứa bit 0 để ẩn tin mật\n",
    "cover_audio_bit1 = cover_samples + echo_bit1                                 # Tạo đoạn echo chứa bit 1 để ẩn tin mật"
   ]
  },
  {
   "cell_type": "code",
   "execution_count": 11,
   "metadata": {},
   "outputs": [
    {
     "name": "stdout",
     "output_type": "stream",
     "text": [
      "279510\n",
      "279510\n"
     ]
    }
   ],
   "source": [
    "print(len(cover_audio_bit0))\n",
    "print(len(cover_audio_bit1))"
   ]
  },
  {
   "cell_type": "code",
   "execution_count": 12,
   "metadata": {},
   "outputs": [
    {
     "name": "stdout",
     "output_type": "stream",
     "text": [
      "279510\n"
     ]
    }
   ],
   "source": [
    "stego_audio = (cover_audio_bit0 * mixer0) + (cover_audio_bit1 * mixer1)\n",
    "print(len(stego_audio))"
   ]
  },
  {
   "cell_type": "code",
   "execution_count": 13,
   "metadata": {},
   "outputs": [
    {
     "name": "stdout",
     "output_type": "stream",
     "text": [
      "279488\n"
     ]
    }
   ],
   "source": [
    "stego_audio2 = stego_audio[0: len_echo]\n",
    "print(len(stego_audio2))"
   ]
  },
  {
   "cell_type": "code",
   "execution_count": 14,
   "metadata": {},
   "outputs": [
    {
     "name": "stdout",
     "output_type": "stream",
     "text": [
      "279510\n"
     ]
    }
   ],
   "source": [
    "stego_audio3 = np.append(stego_audio2, sample_not_echo)\n",
    "print(len(stego_audio3))"
   ]
  },
  {
   "cell_type": "code",
   "execution_count": 15,
   "metadata": {},
   "outputs": [
    {
     "data": {
      "text/plain": [
       "False"
      ]
     },
     "execution_count": 15,
     "metadata": {},
     "output_type": "execute_result"
    }
   ],
   "source": [
    "np.array_equal(stego_audio,stego_audio3)"
   ]
  },
  {
   "cell_type": "code",
   "execution_count": 18,
   "metadata": {},
   "outputs": [
    {
     "name": "stdout",
     "output_type": "stream",
     "text": [
      "[-3  5 -4  0  0 -2  1 -1  1 -1  2 -2  0  2 -3  5 -2  2  2 -3  4 -3]\n"
     ]
    }
   ],
   "source": [
    "print(sample_not_echo)"
   ]
  },
  {
   "cell_type": "code",
   "execution_count": 16,
   "metadata": {},
   "outputs": [
    {
     "name": "stdout",
     "output_type": "stream",
     "text": [
      "[-6 10 -8  0  0 -4  2 -2  2 -2  4 -4  0  4 -6 10 -4  4  4 -6  8 -6]\n"
     ]
    }
   ],
   "source": [
    "print(stego_audio[279488:])"
   ]
  },
  {
   "cell_type": "code",
   "execution_count": 17,
   "metadata": {},
   "outputs": [
    {
     "name": "stdout",
     "output_type": "stream",
     "text": [
      "[-3  5 -4  0  0 -2  1 -1  1 -1  2 -2  0  2 -3  5 -2  2  2 -3  4 -3]\n"
     ]
    }
   ],
   "source": [
    "print(stego_audio3[279488:])"
   ]
  },
  {
   "cell_type": "code",
   "execution_count": null,
   "metadata": {},
   "outputs": [],
   "source": [
    "#wavfile.write(stego_aud_file, rate, stego_audio)"
   ]
  },
  {
   "cell_type": "code",
   "execution_count": null,
   "metadata": {},
   "outputs": [],
   "source": []
  }
 ],
 "metadata": {
  "kernelspec": {
   "display_name": "Python 3",
   "language": "python",
   "name": "python3"
  },
  "language_info": {
   "codemirror_mode": {
    "name": "ipython",
    "version": 3
   },
   "file_extension": ".py",
   "mimetype": "text/x-python",
   "name": "python",
   "nbconvert_exporter": "python",
   "pygments_lexer": "ipython3",
   "version": "3.7.5"
  }
 },
 "nbformat": 4,
 "nbformat_minor": 4
}
