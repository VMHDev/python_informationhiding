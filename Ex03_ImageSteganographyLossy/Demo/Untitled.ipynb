{
 "cells": [
  {
   "cell_type": "markdown",
   "metadata": {},
   "source": [
    "dct2: Hàm biến đổi DCT (2 là áp dụng cho dữ liệu 2 chiều)\n",
    "  Đầu vào ma trận pixel\n",
    "  Đầu ra ma trận pixel có cùng kích thước\n",
    "idct2: Hàm biến đổi DCT ngược\n",
    "\n",
    "get_header: Kích thước ảnh img_height, img_weight\n",
    "            Bảng quant\n",
    "            Trả về một bảng bytearray chứa chuỗi file (Nối chuỗi byte này với chuỗi byte nén)\n",
    "            \n",
    "embed: Chỉ làm việc với ảnh xám\n",
    " msg_file: Tin mật\n",
    " cober_img_file: Ảnh nhúng\n",
    " quant_table: Bảng Quant"
   ]
  },
  {
   "cell_type": "code",
   "execution_count": null,
   "metadata": {},
   "outputs": [],
   "source": [
    "jpeg_bytes = bytearray()\n",
    "jpeg_bytes.extend(get_header(height, width,quant_table)) # \n",
    "huf = Huffman()\n",
    "# Duyệt khối 8x8 nối vào jpeg_bytes\n",
    "# i và j là góc của các pixel\n",
    "\n",
    "recontructed_cover_pixels = np.emty_like(cover_pixels)\n",
    "\n",
    "for i in range(0, height, 8):\n",
    "    for j in range(0, width, 8):\n",
    "        # Rút trích\n",
    "        block = cover_pixels[i:i+8, j:j+8]\n",
    "        \n",
    "        # Trừ 128 -> Biến đổi DCT\n",
    "#         print(block-128) \n",
    "#             break # => Ra toàn giá trị dương do uint8 => Ép kiểu\n",
    "#         print(block.astype(np.int) -128)  # Hoặc dùng np.subtract\n",
    "#             break\n",
    "            \n",
    "        dct_coefs = dct2(block.astype(np.int) -128)\n",
    "        \n",
    "        # Tính hệ số quant DCT (Làm tròn số nguyên gần nhất)\n",
    "        #quant = np.rint(dct_coefs / quant_table)  # Làm tròn đến số nguyên gần nhất. Kết quả vẫn kiểu float => Phải ép kiểu\n",
    "        quant = np.rint(dct_coefs / quant_table).astype(np.int)\n",
    "        \n",
    "        # Test: Tính ngược lại giá trị quant\n",
    "        temp = quant_dct_coefs * quant_table\n",
    "        recontructed_cover_pixels[i:i+8, j:j+8] = idct2(temp) + 128\n",
    "        \n",
    "       \n",
    "        \n",
    "        # Nhúng\n",
    "        \n",
    "        # Nén\n",
    "            # Chuyển thành mảng 1 chiều với đuôi toàn 0\n",
    "        #quant_dct_coefs.reshape(-1)   #(.reshape(-1) để numpy tự tính)\n",
    "        quant_dct_coefs = quant_dct_coefs.reshape(-1)[contrants - 1] # Là mạng ziz zac đã được định nghĩa sẵn\n",
    "        temp = np.flatnonzero(quant_dct_coefs)[-1] + 1\n",
    "        huf.encode_block(quant_dct_coefs)\n",
    "        if len(temp) > \n",
    "            length =\n",
    "plt.figure(figsize=(20,40))\n",
    "plt.subplot(1,2,1)\n",
    "plt.imshow(cover_pixels,  cmap = 'gray')\n",
    "plt.subplot(1,2,2)\n",
    "plt.imshow(recontructed_cover_pixels,  cmap = 'gray')\n",
    "        \n",
    "# Lấy hết mảng đã nén\n",
    "# Thêm kí tự done\n",
    "# Ghi xuống dạng binary\n",
    "\n"
   ]
  },
  {
   "cell_type": "code",
   "execution_count": null,
   "metadata": {},
   "outputs": [],
   "source": [
    "# Lấy phần tử 0 cuối cùng trong mảng\n",
    "a =np.array([1, 0, 2, 0, 0])\n",
    "np.flatnonzero(a) - 1"
   ]
  },
  {
   "cell_type": "code",
   "execution_count": null,
   "metadata": {},
   "outputs": [],
   "source": []
  },
  {
   "cell_type": "code",
   "execution_count": null,
   "metadata": {},
   "outputs": [],
   "source": []
  },
  {
   "cell_type": "code",
   "execution_count": null,
   "metadata": {},
   "outputs": [],
   "source": []
  }
 ],
 "metadata": {
  "kernelspec": {
   "display_name": "Python 3",
   "language": "python",
   "name": "python3"
  },
  "language_info": {
   "codemirror_mode": {
    "name": "ipython",
    "version": 3
   },
   "file_extension": ".py",
   "mimetype": "text/x-python",
   "name": "python",
   "nbconvert_exporter": "python",
   "pygments_lexer": "ipython3",
   "version": "3.7.5"
  }
 },
 "nbformat": 4,
 "nbformat_minor": 4
}
