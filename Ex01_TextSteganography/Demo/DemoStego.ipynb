{
 "cells": [
  {
   "cell_type": "markdown",
   "metadata": {},
   "source": [
    "from trong import giống như tạo alias đặt tên cho thư viện import vào không có from thì khi sử dụng phải là bitarray.bitarray()"
   ]
  },
  {
   "cell_type": "code",
   "execution_count": 2,
   "metadata": {},
   "outputs": [],
   "source": [
    "from bitarray import bitarray"
   ]
  },
  {
   "cell_type": "code",
   "execution_count": null,
   "metadata": {},
   "outputs": [],
   "source": [
    "ba = bitarray()\n",
    "ba.fromstring('7') #Khởi tạo chuỗi bit của từ truyền vào\n",
    "ba.tostring() # Chuyển thành text\n",
    "len(ba)\n",
    "#Truy xuất\n",
    "ba[0]   # Trả True/False\n",
    "ba[0:2] # Trả về một chuỗi bit"
   ]
  },
  {
   "cell_type": "code",
   "execution_count": 1,
   "metadata": {},
   "outputs": [],
   "source": [
    "# Định nghĩa hàm nhúng khoảng trắng vào cuối dòng\n",
    "# Tên file chứa msg\n",
    "# Tên file chứa văn bản ce chắn\n",
    "# Kích thước kí tự tối đa của dòng\n",
    "# Output: Tên file lưu kết quả\n",
    "def embed(msg_file, vover_text_file, text_width, stego_text_file):\n",
    "    # Đọc file dữ liệu văn bản phủ:\n",
    "    # Cách đọc file cũ\n",
    "    # f = open(cover_text_file, 'r')\n",
    "    # cover_text = f.read() # Lấy toàn bộ nội dung file\n",
    "    # cover_text = f.readlines() # Lấy từng dòng bao gồm kí tự xuống dòng \\n     \n",
    "    # cover_text_lines = f.read().splitlines() # Lấy các dòng không có \\n\n",
    "    # f.close()\n",
    "    #-----------------------------------------------------------------------\n",
    "    # Đọc file và tự động đóng file - Đồng thời xử lý lỗi luôn\n",
    "    with open(cover_text_file, 'r') as f:\n",
    "        cover_text_lines = f.read().splitlines()\n",
    "    print(type(cover_text))\n",
    "    print(cover_text)\n",
    "    #-----------------------------------------------------------------------\n",
    "    \n",
    "    # Đọc file dữ liệu mật:\n",
    "    with open(msg_file, 'r') as f:\n",
    "        msg = f.read()\n",
    "    print(msg)\n",
    "    #------------------------------------------------------------------------\n",
    "\n",
    "    # Chuyển msg dạng text thành dạng bit:\n",
    "    msg_bits = bitarray()\n",
    "    msg_bits.fromstring(msg)\n",
    "    print(msg_bits)\n",
    "    #------------------------------------------------------------------------\n",
    "\n",
    "    # Nhúng tin mật vào trong văn bản phủ:\n",
    "    stego_text = ''\n",
    "    b = 0\n",
    "    for line in cover_text_lines:\n",
    "        # stego_text += line\n",
    "        # stego_text += '\\n'\n",
    "        # => stego text giống cover text\n",
    "        stego_text += line\n",
    "        # Xét có nhúng hay không? Duyệt hết msg thì không nhúng nữa\n",
    "        if b < len(msg_bits):\n",
    "            # Tính giá trị để xem còn nhúng hay không?\n",
    "            n_allowed_spaces = text_with - len(line) #Số lượng khoảng trắng cho phép chèn            \n",
    "            n_needed_spaces = msg_bits[b] + 1 # Số khoảng trắng cần chèn: True + 1 =  1 + 1 = 2 | False + 1 = 0 + 1 = 1\n",
    "                                              # Bit 0 thì chèn 1 khoảng trắng | Bit 1 thì chèn 2 khoảng trắng\n",
    "            if n_needed_spaces <= n_allowed_spaces:\n",
    "                stego_text += n_needed_spaces * ' '  # Cộng thêm n_needed_spaces số khoảng trắng\n",
    "                b += 1\n",
    "        stego_text += '\\n'\n",
    "    # Nếu nhúng hết ra khỏi vòng for thì b phải bằng len của msg_bits\n",
    "    if(b < len(msg_bits)):\n",
    "        print('Not enough spaces to embed!')\n",
    "        return false\n",
    "    #------------------------------------------------------------------------\n",
    "    \n",
    "    # Ghi xuống file\n",
    "    with open(stego_text_file, 'w') as f:\n",
    "        f.write(stego_text)\n",
    "    #------------------------------------------------------------------------    \n",
    "    return true"
   ]
  },
  {
   "cell_type": "code",
   "execution_count": null,
   "metadata": {},
   "outputs": [],
   "source": [
    "# Thực thi\n",
    "# Để cùng thư mục nên chỉ cần truyền tên file\n",
    "embed('msg.txt', 'cover.txt', 70, 'stego.txt')"
   ]
  },
  {
   "cell_type": "code",
   "execution_count": null,
   "metadata": {},
   "outputs": [],
   "source": [
    "def extract(stego_text_file, extr_msg_file):\n",
    "    # Đọc file nhúng dữ liệu mật:\n",
    "    with open(stego_text_file, 'r') as f:\n",
    "        stego_text_file = f.read().splitlines()\n",
    "        \n",
    "    # Giải mã tin mật\n",
    "    extr_msg_bits = bitarray()\n",
    "    for line in stego_text_lines:\n",
    "        if line[-2:] == '  '  # Truy xuất hai ký tự cuối\n",
    "            extr_msg_bits.append(True)\n",
    "        elif line[-1:] == ' ': # Truy xuất một ký tự cuối (không đảo lên if)\n",
    "            extr_msg_bits.append(False)\n",
    "    print(extr_msg_bits.tostring())"
   ]
  },
  {
   "cell_type": "code",
   "execution_count": null,
   "metadata": {},
   "outputs": [],
   "source": [
    "extract('stego.txt', 'extr_msg.txt')"
   ]
  }
 ],
 "metadata": {
  "kernelspec": {
   "display_name": "Python 3",
   "language": "python",
   "name": "python3"
  },
  "language_info": {
   "codemirror_mode": {
    "name": "ipython",
    "version": 3
   },
   "file_extension": ".py",
   "mimetype": "text/x-python",
   "name": "python",
   "nbconvert_exporter": "python",
   "pygments_lexer": "ipython3",
   "version": "3.7.4"
  }
 },
 "nbformat": 4,
 "nbformat_minor": 4
}
